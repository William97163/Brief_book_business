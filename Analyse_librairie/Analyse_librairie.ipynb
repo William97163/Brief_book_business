{
 "cells": [
  {
   "cell_type": "markdown",
   "id": "4593da32-c6b4-4a3c-95bc-5ff357d9aae5",
   "metadata": {},
   "source": [
    "<div style=\"display: flex; background-color: RGB(255,114,0);\" >\n",
    "<h1 style=\"margin: auto; padding: 30px; \">Brief - Analyse_librairie </h1>\n",
    "</div>"
   ]
  },
  {
   "cell_type": "markdown",
   "id": "95b89268-52b7-42e4-93c8-282ac38f19b3",
   "metadata": {
    "tags": []
   },
   "source": [
    "<div style=\"background-color: RGB(51,165,182);\" >\n",
    "<h2 style=\"margin: auto; padding: 20px; color:#fff; \">Partie 1 -Nettoyage des données</h2>\n",
    "</div>"
   ]
  },
  {
   "cell_type": "markdown",
   "id": "b042fc47-8148-4891-841d-60b907b9ad45",
   "metadata": {},
   "source": [
    "<div style=\"border: 1px solid RGB(51,165,182);\" >\n",
    "<h3 style=\"margin: auto; padding: 20px; color: RGB(51,165,182); \">1.1 - Importation des librairies</h3>\n",
    "</div>"
   ]
  },
  {
   "cell_type": "code",
   "execution_count": null,
   "id": "54e9ec44-15ca-4594-810b-0f2b26e2ee18",
   "metadata": {},
   "outputs": [],
   "source": [
    "import pandas as pd \n",
    "import numpy as np \n",
    "import scipy.stats as st\n",
    "import math as mth\n",
    "import matplotlib.pyplot as plt\n",
    "import altair as alt\n",
    "import seaborn as sns\n",
    "from vega_datasets import data\n",
    "from sklearn.preprocessing import OneHotEncoder"
   ]
  },
  {
   "cell_type": "markdown",
   "id": "a55b38ed-aef2-4dc2-8b89-b34467731ffd",
   "metadata": {},
   "source": [
    "<div style=\"border: 1px solid RGB(51,165,182);\" >\n",
    "<h3 style=\"margin: auto; padding: 20px; color: RGB(51,165,182); \">1.2 - Récuperation des fichiers csv</h3>\n",
    "</div>"
   ]
  },
  {
   "cell_type": "code",
   "execution_count": null,
   "id": "74dac79b-a97a-488e-b93c-d0cb1ac60a8a",
   "metadata": {},
   "outputs": [],
   "source": [
    "df_clients = pd.read_csv(\"datas/clients.csv\")\n",
    "df_produits = pd.read_csv(\"datas/produits.csv\")\n",
    "df_ventes = pd.read_csv(\"datas/ventes.csv\")"
   ]
  },
  {
   "cell_type": "markdown",
   "id": "0c5d64aa-ac57-4abc-b900-71d8c4bd2a29",
   "metadata": {},
   "source": [
    "<div style=\"border: 1px solid RGB(51,165,182);\" >\n",
    "<h3 style=\"margin: auto; padding: 20px; color: RGB(51,165,182); \">1.3 - Vérification des données manquantes</h3>\n",
    "</div>"
   ]
  },
  {
   "cell_type": "code",
   "execution_count": null,
   "id": "de35df17-6cf3-43bb-b211-e9307c75af12",
   "metadata": {},
   "outputs": [],
   "source": [
    "df_clients.info()"
   ]
  },
  {
   "cell_type": "code",
   "execution_count": null,
   "id": "7b6fcfd4-4e88-4d1e-aa3d-1b57490731a5",
   "metadata": {},
   "outputs": [],
   "source": [
    "df_produits.info()"
   ]
  },
  {
   "cell_type": "code",
   "execution_count": null,
   "id": "483c9fe1-11f8-4b39-9cb0-fa70c533ca8c",
   "metadata": {},
   "outputs": [],
   "source": [
    "df_ventes.info()"
   ]
  },
  {
   "cell_type": "markdown",
   "id": "30634981-45ed-4572-92e9-aa2c7342f43a",
   "metadata": {},
   "source": [
    "Aucune donnée n'ai manquante dans nos 3 csv"
   ]
  },
  {
   "cell_type": "markdown",
   "id": "ca9b4395-5bed-4331-bc7d-9230837dd2f6",
   "metadata": {},
   "source": [
    "<div style=\"border: 1px solid RGB(51,165,182);\" >\n",
    "<h3 style=\"margin: auto; padding: 20px; color: RGB(51,165,182); \">1.4 - Vérification des données en doublon</h3>\n",
    "</div>"
   ]
  },
  {
   "cell_type": "code",
   "execution_count": null,
   "id": "953b7ded-b2af-4ee7-b73d-4721ffa2612c",
   "metadata": {},
   "outputs": [],
   "source": [
    "len(df_clients)"
   ]
  },
  {
   "cell_type": "code",
   "execution_count": null,
   "id": "9b3c53a1-ca2b-4e20-a1df-ed1584a0327c",
   "metadata": {},
   "outputs": [],
   "source": [
    "df_clients= df_clients.drop_duplicates()\n",
    "len(df_clients)"
   ]
  },
  {
   "cell_type": "code",
   "execution_count": null,
   "id": "20e31e35-bea8-4a28-bd42-b014bde715f4",
   "metadata": {},
   "outputs": [],
   "source": [
    "len(df_produits)"
   ]
  },
  {
   "cell_type": "code",
   "execution_count": null,
   "id": "0efe708d-eada-47ea-a880-a7bfa632b025",
   "metadata": {},
   "outputs": [],
   "source": [
    "df_produits.drop_duplicates(inplace = True)\n",
    "len(df_produits)"
   ]
  },
  {
   "cell_type": "code",
   "execution_count": null,
   "id": "60579aa5-72ec-4ec8-bf2a-1472a2cc517b",
   "metadata": {},
   "outputs": [],
   "source": [
    "len(df_ventes)"
   ]
  },
  {
   "cell_type": "code",
   "execution_count": null,
   "id": "ce89ad19-7919-4c79-9c40-9f9b1105e8e5",
   "metadata": {},
   "outputs": [],
   "source": [
    "df_ventes.drop_duplicates(inplace = True)\n",
    "len(df_ventes)"
   ]
  },
  {
   "cell_type": "markdown",
   "id": "f373edef-510f-4b3d-b351-b3e5eea6a14c",
   "metadata": {},
   "source": [
    "il y a une différence de ligne lorsque les doublons sont enlevés dans la dataframe vente "
   ]
  },
  {
   "cell_type": "markdown",
   "id": "4532cc5a-fc6d-42d4-a4b0-38208c0771d5",
   "metadata": {
    "tags": []
   },
   "source": [
    "<div style=\"border: 1px solid RGB(51,165,182);\" >\n",
    "<h3 style=\"margin: auto; padding: 20px; color: RGB(51,165,182); \">1.5 - Vérification des données aberrantes </h3>\n",
    "</div>"
   ]
  },
  {
   "cell_type": "code",
   "execution_count": null,
   "id": "3afc565c-eb3b-4e5e-8331-c01041bfbea1",
   "metadata": {},
   "outputs": [],
   "source": [
    "df_produits.columns"
   ]
  },
  {
   "cell_type": "code",
   "execution_count": null,
   "id": "ddab994d-760d-4dac-b6c9-b0ae0c2d5615",
   "metadata": {},
   "outputs": [],
   "source": [
    "df_produits[[\"price\"]].boxplot()"
   ]
  },
  {
   "cell_type": "markdown",
   "id": "095eee4c-d544-41c3-b7d4-e7367227a219",
   "metadata": {},
   "source": [
    "Détection de valeurs aberrantes dans la dataframe des produits sur les prix "
   ]
  },
  {
   "cell_type": "code",
   "execution_count": null,
   "id": "5eefed39-ef37-4b4b-b2c1-cfee2872d457",
   "metadata": {},
   "outputs": [],
   "source": [
    "df_clients.columns"
   ]
  },
  {
   "cell_type": "code",
   "execution_count": null,
   "id": "77314cfc-eb2e-48d9-bf49-a062b70bc8f0",
   "metadata": {},
   "outputs": [],
   "source": [
    "df_ventes.columns"
   ]
  },
  {
   "cell_type": "markdown",
   "id": "614b9085-b682-4632-8768-5d436e7df7e7",
   "metadata": {},
   "source": [
    "<div style=\"border: 1px solid RGB(51,165,182);\" >\n",
    "<h3 style=\"margin: auto; padding: 20px; color: RGB(51,165,182); \">1.5 - Analyse des valeurs aberrantes</h3>\n",
    "</div>"
   ]
  },
  {
   "cell_type": "code",
   "execution_count": null,
   "id": "afd559eb-6919-40b6-8083-8cd5954c1482",
   "metadata": {},
   "outputs": [],
   "source": [
    "df_produits[df_produits[\"price\"] > 50 ].count()"
   ]
  },
  {
   "cell_type": "code",
   "execution_count": null,
   "id": "a8725b7e-863e-4d75-be76-c7d3e393ddba",
   "metadata": {},
   "outputs": [],
   "source": [
    "df_produits.count()"
   ]
  },
  {
   "cell_type": "code",
   "execution_count": null,
   "id": "5f9932d6-068a-4c5e-8653-7635d34850f3",
   "metadata": {},
   "outputs": [],
   "source": [
    "273/3287*100"
   ]
  },
  {
   "cell_type": "code",
   "execution_count": null,
   "id": "01eecc6a-7b72-435f-807b-7e817f9cb9d8",
   "metadata": {},
   "outputs": [],
   "source": [
    "df_ventes_produits = df_ventes.merge(df_produits)\n",
    "df_all = df_ventes_produits.merge(df_clients)"
   ]
  },
  {
   "cell_type": "code",
   "execution_count": null,
   "id": "3b26b71c-7918-478a-a938-305e2985ccf4",
   "metadata": {},
   "outputs": [],
   "source": [
    "df_all"
   ]
  },
  {
   "cell_type": "code",
   "execution_count": null,
   "id": "da32dbad-acaf-47f7-9c11-88e5069108fa",
   "metadata": {},
   "outputs": [],
   "source": [
    "df_all.info()"
   ]
  },
  {
   "cell_type": "code",
   "execution_count": null,
   "id": "2e28a8a5-4d4d-4d62-a6fd-d8b3ba74b351",
   "metadata": {},
   "outputs": [],
   "source": [
    "df_all.price.sort_values()"
   ]
  },
  {
   "cell_type": "code",
   "execution_count": null,
   "id": "20b04229-d7c6-4c3f-b1bf-009326529bae",
   "metadata": {},
   "outputs": [],
   "source": [
    "df_all = df_all[df_all[\"price\"] > 0 ]"
   ]
  },
  {
   "cell_type": "code",
   "execution_count": null,
   "id": "81a575ab-f15b-46ff-9366-6d7a0dc963c2",
   "metadata": {},
   "outputs": [],
   "source": [
    "df_all.info()"
   ]
  },
  {
   "cell_type": "markdown",
   "id": "3a7eded2-f87b-4bce-90a6-38d283709aa0",
   "metadata": {},
   "source": [
    "<div style=\"background-color: RGB(51,165,182);\" >\n",
    "<h2 style=\"margin: auto; padding: 20px; color:#fff; \">Partie 2 - Analyse des données </h2>\n",
    "</div>"
   ]
  },
  {
   "cell_type": "markdown",
   "id": "ad359975-08b6-410f-b5d1-ad356ecf7dd1",
   "metadata": {},
   "source": [
    "<div style=\"border: 1px solid RGB(51,165,182);\" >\n",
    "<h3 style=\"margin: auto; padding: 20px; color: RGB(51,165,182); \">2.1 - Indicateur de tendance centrale et de dispersion </h3>\n",
    "</div>"
   ]
  },
  {
   "cell_type": "markdown",
   "id": "759db15b-5b10-466b-bced-2d1f81b98c26",
   "metadata": {},
   "source": [
    "La moyenne est un indicateur de tendance centrale \\\n",
    "l'écart interquartile est un indicateur de tendance de dispersion "
   ]
  },
  {
   "cell_type": "code",
   "execution_count": null,
   "id": "8be21282-2078-446e-8053-191a59792a00",
   "metadata": {},
   "outputs": [],
   "source": [
    "med_price = df_all.price.median()\n",
    "med_price\n",
    "# la médiane des prix est de :"
   ]
  },
  {
   "cell_type": "code",
   "execution_count": null,
   "id": "ff059efd-bca4-409c-a1c4-4ffe55ae7738",
   "metadata": {},
   "outputs": [],
   "source": [
    "moy_age = df_all.birth.mean()\n",
    "moy_age\n",
    "# les clients sont né en géneral en 1977"
   ]
  },
  {
   "cell_type": "code",
   "execution_count": null,
   "id": "caf1527d-9d74-4ccc-b3f8-9818dcd9c693",
   "metadata": {},
   "outputs": [],
   "source": [
    "df_all"
   ]
  },
  {
   "cell_type": "code",
   "execution_count": null,
   "id": "97f1401d-3273-4d5b-aff7-5ab96b88aaa7",
   "metadata": {},
   "outputs": [],
   "source": [
    "q3, q1 = np.percentile(df_all.price, [75 ,25])\n",
    "iqr = q3 - q1\n",
    "iqr"
   ]
  },
  {
   "cell_type": "markdown",
   "id": "72345f19-4f41-428d-9823-f69365d3d136",
   "metadata": {},
   "source": [
    "Nous pouvons conclure dû à cet écart que nous avons une petite dispersion "
   ]
  },
  {
   "cell_type": "markdown",
   "id": "a2c6e911-d3e1-4b08-8f26-bd7ffcd82efb",
   "metadata": {},
   "source": [
    "<div style=\"border: 1px solid RGB(51,165,182);\" >\n",
    "<h3 style=\"margin: auto; padding: 20px; color: RGB(51,165,182); \">2.2 - Analyse de concentration </h3>\n",
    "</div>"
   ]
  },
  {
   "cell_type": "code",
   "execution_count": null,
   "id": "79a43e07-86d6-46fd-8c21-42fddcdd4e07",
   "metadata": {},
   "outputs": [],
   "source": [
    "def gini(arr):\n",
    "    ## first sort\n",
    "    sorted_arr = arr.copy()\n",
    "    sorted_arr.sort()\n",
    "    n = arr.size\n",
    "    coef_ = 2. / n\n",
    "    const_ = (n + 1.) / n\n",
    "    weighted_sum = sum([(i+1)*yi for i, yi in enumerate(sorted_arr)])\n",
    "    return coef_*weighted_sum/(sorted_arr.sum()) - const_"
   ]
  },
  {
   "cell_type": "code",
   "execution_count": null,
   "id": "eeedab62-fd83-41f9-8c63-4e93e61015df",
   "metadata": {},
   "outputs": [],
   "source": [
    "arr = np.array(df_all.price)\n",
    "gini(arr)"
   ]
  },
  {
   "cell_type": "markdown",
   "id": "27034e9d-e08f-4f48-890e-c08c30ef18c5",
   "metadata": {
    "tags": []
   },
   "source": [
    "2.2.1 Indice de gini "
   ]
  },
  {
   "cell_type": "code",
   "execution_count": null,
   "id": "13501d44-1872-4ad5-b9d9-a0b8ef6d9b89",
   "metadata": {
    "tags": []
   },
   "outputs": [],
   "source": [
    "dep = df_all.price\n",
    "n = len(dep)\n",
    "lorenz = np.cumsum(np.sort(dep)) / dep.sum()\n",
    "lorenz = np.append([0],lorenz) # La courbe de Lorenz commence à 0\n",
    "\n",
    "xaxis = np.linspace(0-1/n,1+1/n,n+1) #Il y a un segment de taille n pour chaque individu, plus 1 segment supplémentaire d'ordonnée 0. Le premier segment commence à 0-1/n, et le dernier termine à 1+1/n.\n",
    "plt.plot([0,1], [0,1], color='k')\n",
    "plt.plot(xaxis,lorenz)\n",
    "plt.title(\"Courbe de lorenz des prix\")\n",
    "plt.show()"
   ]
  },
  {
   "cell_type": "markdown",
   "id": "98debacc-83a7-4a4e-a472-04ff3d152d63",
   "metadata": {},
   "source": [
    "2.2.2 Courbe de laurenz"
   ]
  },
  {
   "cell_type": "markdown",
   "id": "59577a2d-802c-4de3-ac12-e02998b74f94",
   "metadata": {},
   "source": [
    "<div style=\"border: 1px solid RGB(51,165,182);\" >\n",
    "<h3 style=\"margin: auto; padding: 20px; color: RGB(51,165,182); \">2.3 - Construction de graphique </h3>\n",
    "</div>"
   ]
  },
  {
   "cell_type": "code",
   "execution_count": null,
   "id": "891f08a4-16a1-4022-9d75-9f43b95530bb",
   "metadata": {},
   "outputs": [],
   "source": [
    "list_annee = []\n",
    "list_heure = []\n",
    "list_mois = []\n",
    "for date in df_all.date:\n",
    "    list_annee.append(date[:4])\n",
    "    list_heure.append(date[11:13])\n",
    "    list_mois.append(date[5:7])"
   ]
  },
  {
   "cell_type": "code",
   "execution_count": null,
   "id": "aaa1ecf0-25e0-4348-8315-4511dead9b91",
   "metadata": {},
   "outputs": [],
   "source": [
    "df_all = df_all.assign(annee = pd.to_numeric(list_annee))"
   ]
  },
  {
   "cell_type": "code",
   "execution_count": null,
   "id": "3e49b308-e8b9-48e5-9fc7-46ba26306e49",
   "metadata": {},
   "outputs": [],
   "source": [
    "df_all.sort_values(by='date')"
   ]
  },
  {
   "cell_type": "code",
   "execution_count": null,
   "id": "d8a52922-1d19-466b-bf50-d24447084c8d",
   "metadata": {},
   "outputs": [],
   "source": [
    "df_all = df_all.assign(age = lambda x: x[\"annee\"] - x[\"birth\"])\n",
    "df_all = df_all.assign(heure = list_heure)\n",
    "df_all = df_all.assign(mois = list_mois)\n",
    "df_all"
   ]
  },
  {
   "cell_type": "code",
   "execution_count": null,
   "id": "d49fbc7c-1931-4813-b457-3ca14c629543",
   "metadata": {},
   "outputs": [],
   "source": [
    "source = df_all"
   ]
  },
  {
   "cell_type": "code",
   "execution_count": null,
   "id": "c27b452e-5c07-4f52-8d4d-3c9e9934e7c2",
   "metadata": {},
   "outputs": [],
   "source": [
    "alt.data_transformers.disable_max_rows()\n",
    "alt.Chart(source).mark_bar().encode(\n",
    "    alt.X(\"age:Q\", bin=alt.Bin(maxbins=25), title=\"Age\"),\n",
    "    alt.Y('count()',title=\"nb_ventes\")\n",
    ").properties(\n",
    "    title=\"distribution de l'age des clients sur le nombre de vente\"\n",
    ")"
   ]
  },
  {
   "cell_type": "markdown",
   "id": "fbbc6799-b714-4078-b972-66b31238b3ef",
   "metadata": {},
   "source": [
    "les personnes dont l'âge est entre 40 et 45 ans sont celles qui vendent le plus "
   ]
  },
  {
   "cell_type": "code",
   "execution_count": null,
   "id": "93d8c10a-e9c7-46b3-8ddb-37cdcb377368",
   "metadata": {},
   "outputs": [],
   "source": [
    "chart = alt.Chart(source).mark_bar().encode(\n",
    "    alt.Y('count()',title=\"nb_ventes\"),\n",
    "    x='sex:N',\n",
    "    color='sex:N',\n",
    ").properties(\n",
    "    title='nombre de ventes en fonction du sexe'\n",
    ")\n",
    "\n",
    "chart"
   ]
  },
  {
   "cell_type": "markdown",
   "id": "6ed3063f-bd94-4196-aa53-7871151a3c5c",
   "metadata": {},
   "source": [
    "le nombre de vente est quasiment similaire entre les hommes et les femmes "
   ]
  },
  {
   "cell_type": "code",
   "execution_count": null,
   "id": "9e839adf-1d49-4a76-b254-53ab2dff83b8",
   "metadata": {},
   "outputs": [],
   "source": [
    "alt.data_transformers.disable_max_rows()\n",
    "alt.Chart(source).mark_bar().encode(\n",
    "    alt.X(\"heure:N\", bin=alt.Bin(maxbins=25), title=\"heure(h)\"),\n",
    "    alt.Y('count()',title=\"nb_ventes\")\n",
    ").properties(\n",
    "    title=\"nb de vente en fonction de l'heure\"\n",
    ")"
   ]
  },
  {
   "cell_type": "markdown",
   "id": "31809ecb-b404-47e9-b549-b88b30b518b4",
   "metadata": {},
   "source": [
    "Nous pouvons voir qu'entre 22h et 23h est le moment où il y le plus de ventes, pour les autres horaires, le nombre de vente est assez similaire "
   ]
  },
  {
   "cell_type": "code",
   "execution_count": null,
   "id": "15b2bbba-6b0f-488e-be20-05178b22c8ae",
   "metadata": {},
   "outputs": [],
   "source": [
    "moust = alt.Chart(source).mark_boxplot(ticks=True).encode(\n",
    "    x=alt.X(\"price:Q\"), \n",
    "    y=alt.Y(\"categ:N\"), \n",
    "    color=\"categ:N\",\n",
    ").properties(\n",
    "    width=100,\n",
    "    height=100,\n",
    ")\n",
    "moust"
   ]
  },
  {
   "cell_type": "code",
   "execution_count": null,
   "id": "51784d13-803e-4d1f-8d73-42dd08195369",
   "metadata": {},
   "outputs": [],
   "source": [
    "heat = alt.Chart(source).transform_aggregate(\n",
    "    nb_ventes='count()',\n",
    "    groupby=['sex',\"categ\"]\n",
    ").encode(\n",
    "    alt.X('categ:N', scale=alt.Scale(paddingInner=0)),\n",
    "    alt.Y('sex:N', scale=alt.Scale(paddingInner=0)),\n",
    ")\n",
    "\n",
    "\n",
    "heatmap = heat.mark_rect().encode(\n",
    "    color=alt.Color('nb_ventes:Q',\n",
    "        scale=alt.Scale(scheme='viridis'),\n",
    "        legend=alt.Legend(direction='vertical')\n",
    "    )\n",
    ").properties(width=200,height=100)\n",
    "\n",
    "text = heat.mark_text(baseline='middle').encode(\n",
    "    text='nb_ventes:Q',\n",
    "    color=alt.condition(\n",
    "        alt.datum.nb_ventes > 100,\n",
    "        alt.value('white'),\n",
    "        alt.value('white')\n",
    "    )\n",
    ")\n",
    "\n",
    "heatmap + text"
   ]
  },
  {
   "cell_type": "markdown",
   "id": "924e78f2-a037-4be1-956c-40167e49f7c6",
   "metadata": {},
   "source": [
    "<div style=\"background-color: RGB(51,165,182);\" >\n",
    "<h2 style=\"margin: auto; padding: 20px; color:#fff; \">Partie 3 - Analyse de corrélation </h2>\n",
    "</div>"
   ]
  },
  {
   "cell_type": "code",
   "execution_count": null,
   "id": "d9381067-c4f2-45f4-ba63-23c2dec4a1c1",
   "metadata": {},
   "outputs": [],
   "source": [
    "X = \"sex\"\n",
    "Y = \"categ\""
   ]
  },
  {
   "cell_type": "code",
   "execution_count": null,
   "id": "9c72d35c-27b6-4dd7-8987-aa229dd925ba",
   "metadata": {},
   "outputs": [],
   "source": [
    "cont=df_all[[X,Y]].pivot_table(index=X,columns=Y,aggfunc=len,margins=True,margins_name=\"Total\")\n",
    "cont"
   ]
  },
  {
   "cell_type": "code",
   "execution_count": null,
   "id": "6a0401ed-5069-40c3-bf5d-e2c2809e1af6",
   "metadata": {},
   "outputs": [],
   "source": [
    "cont = cont.copy()\n",
    "chi2, pvalue, degrees, expected = st.chi2_contingency(cont)\n",
    "chi2, degrees, pvalue"
   ]
  },
  {
   "cell_type": "markdown",
   "id": "92729f7c-f0fb-45a0-9fa0-b8eeeffa04d6",
   "metadata": {},
   "source": [
    "sachant que la pvalue est inferieur à 5%, il y a donc une correlation entre le sexe et la categorie"
   ]
  },
  {
   "cell_type": "markdown",
   "id": "481e36f5-1a05-4e46-afec-4259493f3769",
   "metadata": {},
   "source": [
    "<div style=\"border: 1px solid RGB(51,165,182);\" >\n",
    "<h3 style=\"margin: auto; padding: 20px; color: RGB(51,165,182); \">3.1 - correlation age et montant total </h3>\n",
    "</div>"
   ]
  },
  {
   "cell_type": "code",
   "execution_count": null,
   "id": "a895e669-10b7-4997-9189-5d94f30808cf",
   "metadata": {},
   "outputs": [],
   "source": [
    "price_sum_per_age = df_all[[\"price\",\"age\"]]\n",
    "price_sum_per_age = price_sum_per_age.groupby(by=\"age\").sum().reset_index()\n",
    "price_sum_per_age.columns = [\"age\",\"prix_total\"]\n",
    "price_sum_per_age"
   ]
  },
  {
   "cell_type": "code",
   "execution_count": null,
   "id": "1a5ae373-e934-4abd-9458-3fdc157bbe94",
   "metadata": {},
   "outputs": [],
   "source": [
    "alt.data_transformers.disable_max_rows()\n",
    "alt.Chart(price_sum_per_age).mark_bar().encode(\n",
    "    alt.X(\"age:Q\", bin=alt.Bin(maxbins=20), title=\"Age\"),\n",
    "    alt.Y('prix_total:Q',title=\"prix_total\")\n",
    ")"
   ]
  },
  {
   "cell_type": "code",
   "execution_count": null,
   "id": "c4535f4e-7a22-4ee7-abdf-de597a7b756e",
   "metadata": {},
   "outputs": [],
   "source": [
    "price_sum_per_age.corr()"
   ]
  },
  {
   "cell_type": "markdown",
   "id": "bbc5f142-9dfd-45d3-82a8-df87cc1324da",
   "metadata": {},
   "source": [
    "il y a une corrélation entre les age et les prix totaux "
   ]
  },
  {
   "cell_type": "markdown",
   "id": "47e3b16b-fd4b-4bf0-ad94-eedff4b259a3",
   "metadata": {},
   "source": [
    "<div style=\"border: 1px solid RGB(51,165,182);\" >\n",
    "<h3 style=\"margin: auto; padding: 20px; color: RGB(51,165,182); \">3.2 - correlation age et nombre achat par mois </h3>\n",
    "</div>"
   ]
  },
  {
   "cell_type": "code",
   "execution_count": null,
   "id": "19482b32-e1cd-4cf4-893e-50d47707a926",
   "metadata": {},
   "outputs": [],
   "source": [
    "frequence_month = df_all.groupby(by=\"mois\").count().reset_index()\n",
    "frequence_month = frequence_month[[\"mois\",\"price\"]]\n",
    "frequence_month.columns = [\"mois\",\"nb_achats\"]\n",
    "frequence_month"
   ]
  },
  {
   "cell_type": "code",
   "execution_count": null,
   "id": "487076ab-9f2b-499a-bd14-9cb515e8da10",
   "metadata": {},
   "outputs": [],
   "source": [
    "nb_vente_per_month_and_year = df_all.groupby(by=[\"age\",\"mois\"]).count().reset_index()\n",
    "nb_vente_per_month_and_year = nb_vente_per_month_and_year[[\"age\",\"mois\",\"sex\"]]\n",
    "nb_vente_per_month_and_year.columns = [\"age\",\"mois\",\"nb_achat\"]\n",
    "nb_vente_per_month_and_year"
   ]
  },
  {
   "cell_type": "code",
   "execution_count": null,
   "id": "aa0266d1-d927-446c-b6fb-d8a5dc040c7e",
   "metadata": {},
   "outputs": [],
   "source": [
    "alt.data_transformers.disable_max_rows()\n",
    "alt.Chart(nb_vente_per_month_and_year).mark_bar().encode(\n",
    "    alt.X(\"age:Q\", bin=alt.Bin(maxbins=20), title=\"Age\"),\n",
    "    alt.Y('nb_achat:Q',title=\"nb_achat\")\n",
    ")"
   ]
  },
  {
   "cell_type": "code",
   "execution_count": null,
   "id": "60ffedd0-8d37-4437-aa1d-45f9388ea9dd",
   "metadata": {},
   "outputs": [],
   "source": [
    "nb_vente_per_month_and_year.corr()"
   ]
  },
  {
   "cell_type": "markdown",
   "id": "6c3c65c2-f6f3-4f44-bc35-68c75e0255b1",
   "metadata": {},
   "source": [
    "<div style=\"border: 1px solid RGB(51,165,182);\" >\n",
    "<h3 style=\"margin: auto; padding: 20px; color: RGB(51,165,182); \">3.3 - correlation age et taille panier moyen </h3>\n",
    "</div>"
   ]
  },
  {
   "cell_type": "code",
   "execution_count": null,
   "id": "883ea610-db51-418e-8957-3e3a561b25c0",
   "metadata": {},
   "outputs": [],
   "source": [
    "df_all"
   ]
  },
  {
   "cell_type": "code",
   "execution_count": null,
   "id": "b0c0b017-c42c-49a2-bb47-4b1c8534a842",
   "metadata": {},
   "outputs": [],
   "source": [
    "cart = df_all.groupby(by=[\"age\",\"session_id\"]).count().reset_index()\n",
    "cart = cart[[\"session_id\",\"price\",\"age\"]]\n",
    "cart.columns = [\"session_id\",\"nb_article\",\"age\"]\n",
    "test = cart.groupby(by=\"age\").sum().reset_index()\n",
    "a = cart.groupby(by=\"age\").count().reset_index()\n",
    "b = test.merge(a, on='age', how='left')\n",
    "b = b.assign(moyenne = lambda x: x[\"nb_article_x\"] / x[\"nb_article_y\"])"
   ]
  },
  {
   "cell_type": "code",
   "execution_count": null,
   "id": "911809b5-de77-4195-a95f-68620b7d0fe3",
   "metadata": {},
   "outputs": [],
   "source": [
    "alt.data_transformers.disable_max_rows()\n",
    "alt.Chart(b).mark_bar().encode(\n",
    "    alt.X(\"age:Q\", bin=alt.Bin(maxbins=20), title=\"Age\"),\n",
    "    alt.Y('moyenne:Q',title=\"moyenne_achat\")\n",
    ")"
   ]
  },
  {
   "cell_type": "code",
   "execution_count": null,
   "id": "a571d7f1-db4b-48c6-b8b5-ef24a85f3efd",
   "metadata": {},
   "outputs": [],
   "source": [
    "b.corr()"
   ]
  },
  {
   "cell_type": "markdown",
   "id": "34ec1f28-120f-4ce5-9f61-d1b990dde951",
   "metadata": {},
   "source": [
    "<div style=\"border: 1px solid RGB(51,165,182);\" >\n",
    "<h3 style=\"margin: auto; padding: 20px; color: RGB(51,165,182); \">3.4 - correlation age et categorie de produit achetés </h3>\n",
    "</div>"
   ]
  },
  {
   "cell_type": "code",
   "execution_count": null,
   "id": "c11a2a34-821b-44f5-8d7b-ffd4a1ebd6de",
   "metadata": {},
   "outputs": [],
   "source": [
    "v = df_all.groupby(by=[\"age\",\"categ\"]).count().reset_index()\n",
    "v = v[[\"age\",\"categ\",\"price\"]]\n",
    "v.columns = [\"age\",\"categ\",\"nb_achat\"]\n",
    "v"
   ]
  },
  {
   "cell_type": "code",
   "execution_count": null,
   "id": "ea3e9040-e92f-4aa3-bb7a-b51f187a5199",
   "metadata": {},
   "outputs": [],
   "source": [
    "v.corr()"
   ]
  }
 ],
 "metadata": {
  "kernelspec": {
   "display_name": "Python 3 (ipykernel)",
   "language": "python",
   "name": "python3"
  },
  "language_info": {
   "codemirror_mode": {
    "name": "ipython",
    "version": 3
   },
   "file_extension": ".py",
   "mimetype": "text/x-python",
   "name": "python",
   "nbconvert_exporter": "python",
   "pygments_lexer": "ipython3",
   "version": "3.9.12"
  }
 },
 "nbformat": 4,
 "nbformat_minor": 5
}
